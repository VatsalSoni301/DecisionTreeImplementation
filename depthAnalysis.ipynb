{
 "cells": [
  {
   "cell_type": "code",
   "execution_count": 1,
   "metadata": {},
   "outputs": [],
   "source": [
    "import numpy as np\n",
    "import pandas as pd\n",
    "from sklearn.model_selection import train_test_split \n",
    "from sklearn.metrics import classification_report,confusion_matrix,accuracy_score\n",
    "from sklearn.tree import DecisionTreeClassifier\n",
    "from binarytree import tree,Node\n",
    "import matplotlib\n",
    "from pylab import *\n",
    "import matplotlib.pyplot as plt\n",
    "import copy"
   ]
  },
  {
   "cell_type": "code",
   "execution_count": 2,
   "metadata": {},
   "outputs": [],
   "source": [
    "df=pd.read_csv(\"train.csv\")"
   ]
  },
  {
   "cell_type": "code",
   "execution_count": 3,
   "metadata": {},
   "outputs": [],
   "source": [
    "X=df.drop(['left'],axis=1)\n",
    "Y=df['left']"
   ]
  },
  {
   "cell_type": "code",
   "execution_count": 4,
   "metadata": {},
   "outputs": [],
   "source": [
    "X_train, X_test, Y_train, Y_test = train_test_split(X,Y,test_size = 0.2)\n",
    "X_Original_train = copy.deepcopy(X_train)\n",
    "X_Original_test = copy.deepcopy(X_test)\n",
    "X_train = pd.concat([X_train,Y_train],axis=1)\n",
    "eps = np.finfo(float).eps\n",
    "numAttr=['last_evaluation','satisfaction_level','average_montly_hours','time_spend_company','number_project']\n",
    "depthListtrain={}\n",
    "depthListtest={}"
   ]
  },
  {
   "cell_type": "code",
   "execution_count": 5,
   "metadata": {},
   "outputs": [],
   "source": [
    "def find_overall_entropy(X_train):\n",
    "    output=X_train.keys()[-1]\n",
    "    target_value_list=X_train[output].unique()\n",
    "    entropy=0\n",
    "    for value in target_value_list:\n",
    "        frac = float(X_train[output].value_counts()[value])/(len(X_train[output])+eps)\n",
    "        entropy+=-frac*np.log2(frac+eps)\n",
    "    return abs(entropy)"
   ]
  },
  {
   "cell_type": "code",
   "execution_count": 6,
   "metadata": {},
   "outputs": [],
   "source": [
    "def find_attr_entropy(X_train,attr):\n",
    "    output=X_train.keys()[-1]\n",
    "    target_value_list=X_train[output].unique()\n",
    "    current_value_list=X_train[attr].unique()\n",
    "    final_entropy=0\n",
    "    den=1\n",
    "    for cur_value in current_value_list:\n",
    "        entropy=0\n",
    "        for value in target_value_list:\n",
    "            num = len(X_train[attr][X_train[attr] == cur_value][X_train[output] == value])\n",
    "            den = len(X_train[attr][X_train[attr] == cur_value])\n",
    "            frac=num/(den+eps)\n",
    "            entropy+=-frac*np.log2(frac+eps)\n",
    "        frac2=float(den)/len(X_train)\n",
    "        final_entropy+=-frac2*entropy\n",
    "    return abs(final_entropy)"
   ]
  },
  {
   "cell_type": "code",
   "execution_count": 7,
   "metadata": {},
   "outputs": [],
   "source": [
    "def get_subdataframeNum1(X_train,node,value):\n",
    "    return X_train[X_train[node] < value].reset_index(drop=True)"
   ]
  },
  {
   "cell_type": "code",
   "execution_count": 8,
   "metadata": {},
   "outputs": [],
   "source": [
    "def get_subdataframeNum2(X_train,node,value):\n",
    "    return X_train[X_train[node] >= value].reset_index(drop=True)"
   ]
  },
  {
   "cell_type": "code",
   "execution_count": 9,
   "metadata": {},
   "outputs": [],
   "source": [
    "storemidpoint={}\n",
    "storemidpoint.clear()\n",
    "def split_calculation(X_train):\n",
    "    entropy1=find_overall_entropy(X_train)\n",
    "    for feature in numAttr:\n",
    "        IGMax=0\n",
    "        midmax=0\n",
    "        uniqueVal = X_train[feature].unique()\n",
    "        for mid in uniqueVal:\n",
    "            \n",
    "            subtable1=get_subdataframeNum1(X_train,feature,mid)\n",
    "            subtable2=get_subdataframeNum2(X_train,feature,mid)\n",
    "            firstentropy=0\n",
    "            secondentropy=0\n",
    "            if subtable1.empty:\n",
    "                firstentropy=0\n",
    "            else:\n",
    "                frac1=float(len(subtable1))/len(X_train)\n",
    "                firstentropy = frac1*find_overall_entropy(subtable1)\n",
    "            if subtable2.empty:\n",
    "                secondentropy=0\n",
    "            else:\n",
    "                frac2=float(len(subtable2))/len(X_train)\n",
    "                secondentropy = frac2*find_overall_entropy(subtable2)\n",
    "\n",
    "            entropy2=firstentropy+secondentropy\n",
    "            ig=abs(entropy1)-abs(entropy2)\n",
    "            if ig > IGMax:\n",
    "                IGMax=ig\n",
    "                midmax=mid\n",
    "        _tuple=(IGMax,midmax)\n",
    "        storemidpoint[feature]=_tuple\n",
    "    return storemidpoint"
   ]
  },
  {
   "cell_type": "code",
   "execution_count": 10,
   "metadata": {},
   "outputs": [],
   "source": [
    "def find_best_node(X_train):\n",
    "    information_gain={}\n",
    "    entropy_1=find_overall_entropy(X_train)\n",
    "    for attr in X_train.keys()[:-1]:\n",
    "        if attr not in numAttr:\n",
    "            information_gain[attr]=((abs(entropy_1)-find_attr_entropy(X_train,attr)),0)\n",
    "    return information_gain"
   ]
  },
  {
   "cell_type": "code",
   "execution_count": 11,
   "metadata": {},
   "outputs": [],
   "source": [
    "def get_subdataframe(X_train,node,value):\n",
    "    return X_train[X_train[node] == value].reset_index(drop=True)"
   ]
  },
  {
   "cell_type": "code",
   "execution_count": 12,
   "metadata": {},
   "outputs": [],
   "source": [
    "class nodestruct:\n",
    "    def __init__(self, value):\n",
    "        self.value=value\n",
    "        self.positive=0\n",
    "        self.negative=0\n",
    "        self.child=[]\n",
    "        self.midpoint=0\n",
    "        self.values=[]"
   ]
  },
  {
   "cell_type": "code",
   "execution_count": 13,
   "metadata": {},
   "outputs": [],
   "source": [
    "def build_tree(X_train,depth):\n",
    "    \n",
    "    if len(X_train)==1:\n",
    "        return None\n",
    "    \n",
    "    output=X_train.keys()[-1]\n",
    "    outputValue,counts = np.unique(X_train[output],return_counts=True)                        \n",
    "    \n",
    "    \n",
    "    if len(counts)<=1:\n",
    "        root=nodestruct(outputValue[0])\n",
    "        if outputValue[0]==0:\n",
    "            root.negative = counts[0]\n",
    "        else:\n",
    "            root.positive = counts[0]\n",
    "        return root\n",
    "    \n",
    "    else:\n",
    "        if depth == 0:\n",
    "            if counts[0]>counts[1]:\n",
    "                root=nodestruct(outputValue[0])\n",
    "            else:\n",
    "                root=nodestruct(outputValue[1])\n",
    "            return root\n",
    "        numericsplit = split_calculation(X_train)\n",
    "        categorysplit = find_best_node(X_train)\n",
    "        numericsplit.update(categorysplit)\n",
    "        wonAttr=\"\"\n",
    "        IGMAX=0\n",
    "        Split_point=0\n",
    "        \n",
    "        for key,tuple_ in numericsplit.items():\n",
    "            if IGMAX < tuple_[0]:\n",
    "                IGMAX = tuple_[0]\n",
    "                Split_point = tuple_[1]\n",
    "                wonAttr = key\n",
    "                \n",
    "        categorysplit.clear()\n",
    "        numericsplit.clear()\n",
    "        if wonAttr==\"\":\n",
    "            return\n",
    "        root = nodestruct(wonAttr)\n",
    "        root.midpoint = Split_point\n",
    "        root.negative = counts[0]\n",
    "        root.positive = counts[1]\n",
    "        \n",
    "        if wonAttr in numAttr:\n",
    "            subtable0 = get_subdataframeNum1(X_train,wonAttr,Split_point)\n",
    "            subtable1 = get_subdataframeNum2(X_train,wonAttr,Split_point)\n",
    "            root.child.append(build_tree(subtable0,depth-1))\n",
    "            root.child.append(build_tree(subtable1,depth-1))\n",
    "            \n",
    "        else:\n",
    "            for j in X_train[wonAttr].unique():\n",
    "                subtable0 = get_subdataframe(X_train,wonAttr,j)\n",
    "                subtable0 = subtable0.drop([wonAttr],axis=1)\n",
    "                root.values.append(j)\n",
    "                root.child.append(build_tree(subtable0,depth-1))\n",
    "    \n",
    "        return root"
   ]
  },
  {
   "cell_type": "code",
   "execution_count": 14,
   "metadata": {},
   "outputs": [],
   "source": [
    "def testing(X_test,root):\n",
    "    \n",
    "    if len(root.child)==0:\n",
    "        y_pred.append(root.value)\n",
    "        return\n",
    "    i=root.value\n",
    "    flag=0\n",
    "    if i in numAttr:\n",
    "        if X_test[i]<root.midpoint and root.child[0]!=None:\n",
    "            flag=1\n",
    "            testing(X_test,root.child[0])\n",
    "        elif root.child[1]!=None:\n",
    "            flag=1\n",
    "            testing(X_test,root.child[1])\n",
    "        if flag==0:\n",
    "            if root.positive>root.negative:\n",
    "                y_pred.append(1)\n",
    "            else:\n",
    "                y_pred.append(0)\n",
    "            return\n",
    "    else:\n",
    "        k=0\n",
    "        for j in root.values:\n",
    "            if X_test[i]==j:\n",
    "                if root.child[k]!=None:\n",
    "                    flag=1\n",
    "                    testing(X_test,root.child[k])\n",
    "                    break\n",
    "                else:\n",
    "                    if root.positive>root.negative:\n",
    "                        y_pred.append(1)\n",
    "                    else:\n",
    "                        y_pred.append(0)\n",
    "                    return\n",
    "            k=k+1\n",
    "        if flag==0:\n",
    "            if root.positive>root.negative:\n",
    "                y_pred.append(1)\n",
    "            else:\n",
    "                y_pred.append(0)\n",
    "            return"
   ]
  },
  {
   "cell_type": "code",
   "execution_count": 15,
   "metadata": {},
   "outputs": [
    {
     "name": "stdout",
     "output_type": "stream",
     "text": [
      "('Testing Error---->', 0.16325622775800708)\n",
      "('Training Error---->', 0.14560622914349275)\n",
      "('Testing Error---->', 0.03558718861209964)\n",
      "('Training Error---->', 0.030367074527252513)\n",
      "('Testing Error---->', 0.030249110320284656)\n",
      "('Training Error---->', 0.02124582869855396)\n",
      "('Testing Error---->', 0.023576512455516063)\n",
      "('Training Error---->', 0.01457174638487213)\n",
      "('Testing Error---->', 0.024021352313167266)\n",
      "('Training Error---->', 0.012124582869855405)\n",
      "('Testing Error---->', 0.025800711743772187)\n",
      "('Training Error---->', 0.010344827586206917)\n",
      "('Testing Error---->', 0.025800711743772187)\n",
      "('Training Error---->', 0.009454949944382673)\n",
      "('Testing Error---->', 0.025355871886120984)\n",
      "('Training Error---->', 0.009121245828698554)\n",
      "('Testing Error---->', 0.025355871886120984)\n",
      "('Training Error---->', 0.009232480533926557)\n",
      "('Testing Error---->', 0.025355871886120984)\n",
      "('Training Error---->', 0.009232480533926557)\n"
     ]
    }
   ],
   "source": [
    "depth=2\n",
    "while depth<21:\n",
    "                \n",
    "    rootNode=build_tree(X_train,depth)\n",
    "\n",
    "    y_pred=[]\n",
    "\n",
    "    X_train1=copy.deepcopy(X_Original_train)\n",
    "    X_test1=copy.deepcopy(X_Original_test)\n",
    "    \n",
    "    for index,row in X_test1.iterrows():\n",
    "        testing(row,rootNode)\n",
    "\n",
    "    depthListtest[depth] = 1-accuracy_score(Y_test, y_pred)\n",
    "    print(\"Testing Error---->\",depthListtest[depth])\n",
    "    del y_pred[:]\n",
    "\n",
    "    \n",
    "    for index,row in X_train1.iterrows():\n",
    "        testing(row,rootNode)\n",
    "        \n",
    "    depthListtrain[depth] = 1-accuracy_score(Y_train, y_pred)\n",
    "    print(\"Training Error---->\",depthListtrain[depth])\n",
    "    del y_pred[:]\n",
    "    depth=depth+2"
   ]
  },
  {
   "cell_type": "code",
   "execution_count": 16,
   "metadata": {},
   "outputs": [
    {
     "data": {
      "text/plain": [
       "Text(0.5,1,'depth vs error')"
      ]
     },
     "execution_count": 16,
     "metadata": {},
     "output_type": "execute_result"
    },
    {
     "data": {
      "image/png": "[encoded data removed]",
      "text/plain": [
       "<Figure size 432x288 with 1 Axes>"
      ]
     },
     "metadata": {
      "needs_background": "light"
     },
     "output_type": "display_data"
    }
   ],
   "source": [
    "fig, ax = plt.subplots()\n",
    "x_axis = [i for i in xrange(2,21,2)]\n",
    "ax.plot(x_axis, depthListtrain.values(), label=\"training error\",marker='o')\n",
    "ax.plot(x_axis, depthListtest.values(), label=\"testing error\",marker='o')\n",
    "ax.legend(loc=2) # upper left corner\n",
    "ax.set_xlabel(\"depth\", fontsize=18)\n",
    "ax.set_ylabel(\"error\", fontsize=18)\n",
    "ax.set_title('depth vs error')"
   ]
  },
  {
   "cell_type": "code",
   "execution_count": 17,
   "metadata": {},
   "outputs": [
    {
     "name": "stdout",
     "output_type": "stream",
     "text": [
      "[[1657   29]\n",
      " [  29  533]]\n",
      "              precision    recall  f1-score   support\n",
      "\n",
      "           0       0.98      0.98      0.98      1686\n",
      "           1       0.95      0.95      0.95       562\n",
      "\n",
      "   micro avg       0.97      0.97      0.97      2248\n",
      "   macro avg       0.97      0.97      0.97      2248\n",
      "weighted avg       0.97      0.97      0.97      2248\n",
      "\n",
      "0.9741992882562278\n"
     ]
    }
   ],
   "source": [
    "df1 = pd.read_csv(\"train.csv\")\n",
    "X1 = df1.drop(['left'],axis=1)\n",
    "Y1 = df1['left']\n",
    "X1 = pd.concat([X1,pd.get_dummies(X1['sales'], prefix='sales')],axis=1)\n",
    "X1 = pd.concat([X1,pd.get_dummies(X1['salary'], prefix='salary')],axis=1)\n",
    "X1.drop(['sales','salary'],axis=1, inplace=True)\n",
    "X_train1, X_test1, Y_train1, Y_test1 = train_test_split(X1,Y1,test_size = 0.2)\n",
    "modelTrain = DecisionTreeClassifier()\n",
    "modelTrain.fit(X_train1,Y_train1)\n",
    "Y_predict=modelTrain.predict(X_test1)\n",
    "print confusion_matrix(Y_test1,Y_predict)\n",
    "print classification_report(Y_test1,Y_predict)\n",
    "print accuracy_score(Y_test1, Y_predict)"
   ]
  }
 ],
 "metadata": {
  "kernelspec": {
   "display_name": "Python 2",
   "language": "python",
   "name": "python2"
  },
  "language_info": {
   "codemirror_mode": {
    "name": "ipython",
    "version": 2
   },
   "file_extension": ".py",
   "mimetype": "text/x-python",
   "name": "python",
   "nbconvert_exporter": "python",
   "pygments_lexer": "ipython2",
   "version": "2.7.15rc1"
  }
 },
 "nbformat": 4,
 "nbformat_minor": 2
}
