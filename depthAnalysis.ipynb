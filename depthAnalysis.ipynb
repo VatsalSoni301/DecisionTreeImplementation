{
 "cells": [
  {
   "cell_type": "code",
   "execution_count": 17,
   "metadata": {},
   "outputs": [],
   "source": [
    "import numpy as np\n",
    "import pandas as pd\n",
    "from sklearn.model_selection import train_test_split \n",
    "from sklearn.metrics import classification_report,confusion_matrix,accuracy_score\n",
    "from sklearn.tree import DecisionTreeClassifier\n",
    "from binarytree import tree,Node\n",
    "import matplotlib\n",
    "from pylab import *\n",
    "import matplotlib.pyplot as plt\n",
    "import copy"
   ]
  },
  {
   "cell_type": "code",
   "execution_count": 18,
   "metadata": {},
   "outputs": [],
   "source": [
    "df=pd.read_csv(\"train.csv\")"
   ]
  },
  {
   "cell_type": "code",
   "execution_count": 19,
   "metadata": {},
   "outputs": [],
   "source": [
    "X=df.drop(['left'],axis=1)\n",
    "Y=df['left']\n",
    "X = pd.concat([X,pd.get_dummies(X['sales'], prefix='sales')],axis=1)\n",
    "X = pd.concat([X,pd.get_dummies(X['salary'], prefix='salary')],axis=1)\n",
    "X.drop(['sales','salary'],axis=1, inplace=True)"
   ]
  },
  {
   "cell_type": "code",
   "execution_count": 20,
   "metadata": {},
   "outputs": [],
   "source": [
    "X_train, X_test, Y_train, Y_test = train_test_split(X,Y,test_size = 0.2)\n",
    "X_Original_train=copy.deepcopy(X_train)\n",
    "X_train = pd.concat([X_train,Y_train],axis=1)\n",
    "X_Original_test=copy.deepcopy(X_test)\n",
    "eps = np.finfo(float).eps\n",
    "# X_train\n",
    "depthListtrain={}\n",
    "depthListtest={}"
   ]
  },
  {
   "cell_type": "code",
   "execution_count": 21,
   "metadata": {},
   "outputs": [],
   "source": [
    "def find_overall_entropy(X_train):\n",
    "    output=X_train.keys()[-1]\n",
    "    target_value_list=X_train[output].unique()\n",
    "    entropy=0\n",
    "    for value in target_value_list:\n",
    "        frac = float(X_train[output].value_counts()[value])/(len(X_train[output])+eps)\n",
    "        entropy+=-frac*np.log2(frac+eps)\n",
    "    return entropy"
   ]
  },
  {
   "cell_type": "code",
   "execution_count": 22,
   "metadata": {},
   "outputs": [],
   "source": [
    "def find_attr_entropy(X_train,attr):\n",
    "    if X_train.empty:\n",
    "        return\n",
    "    output=X_train.keys()[-1]\n",
    "    target_value_list=X_train[output].unique()\n",
    "    current_value_list=X_train[attr].unique()\n",
    "    final_entropy=0\n",
    "    den=1\n",
    "    for cur_value in current_value_list:\n",
    "        entropy=0\n",
    "        for value in target_value_list:\n",
    "            num = len(X_train[attr][X_train[attr] == cur_value][X_train[output] == value])\n",
    "            den = len(X_train[attr][X_train[attr] == cur_value])\n",
    "            frac=num/(den+eps)\n",
    "            entropy+=-frac*np.log2(frac+eps)\n",
    "        frac2=float(den)/len(X_train)\n",
    "        final_entropy+=-frac2*entropy\n",
    "    return final_entropy"
   ]
  },
  {
   "cell_type": "code",
   "execution_count": 23,
   "metadata": {},
   "outputs": [],
   "source": [
    "def get_subdataframeNum1(X_train,node,value):\n",
    "    if X_train.empty:\n",
    "        return\n",
    "    return X_train[X_train[node] < value].reset_index(drop=True)"
   ]
  },
  {
   "cell_type": "code",
   "execution_count": 24,
   "metadata": {},
   "outputs": [],
   "source": [
    "def get_subdataframeNum2(X_train,node,value):\n",
    "    if X_train.empty:\n",
    "        return\n",
    "    return X_train[X_train[node] >= value].reset_index(drop=True)"
   ]
  },
  {
   "cell_type": "code",
   "execution_count": 25,
   "metadata": {},
   "outputs": [],
   "source": [
    "storemidpoint={}\n",
    "storemidpoint.clear()\n",
    "numeric_features = ['number_project','last_evaluation','satisfaction_level','average_montly_hours','time_spend_company']\n",
    "for feature in numeric_features:\n",
    "    IGMax=0\n",
    "    midmax=0\n",
    "    prev=None\n",
    "    X_train.sort_values(feature,inplace=True)\n",
    "    for index,row in X_train.iterrows():\n",
    "        if prev is not None:\n",
    "            if prev['left']!=row['left']:\n",
    "                mid=(float(prev[feature])+float(row[feature]))/2\n",
    "    #             print mid\n",
    "                subtable1=get_subdataframeNum1(X_train,feature,mid)\n",
    "                subtable2=get_subdataframeNum2(X_train,feature,mid)\n",
    "                firstentropy=0\n",
    "                secondentropy=0\n",
    "                if subtable1.empty:\n",
    "                    firstentropy=0\n",
    "                else:\n",
    "                    frac1=float(len(subtable1))/len(X_train)\n",
    "                    firstentropy = frac1*find_overall_entropy(subtable1)\n",
    "                if subtable2.empty:\n",
    "                    secondentropy=0\n",
    "                else:\n",
    "                    frac2=float(len(subtable2))/len(X_train)\n",
    "                    secondentropy = frac2*find_overall_entropy(subtable2)\n",
    "                \n",
    "                entropy1=find_overall_entropy(X_train)\n",
    "                entropy2=firstentropy+secondentropy\n",
    "                ig=abs(entropy1)-abs(entropy2)\n",
    "    #             print ig\n",
    "                if ig > IGMax:\n",
    "                    IGMax=ig\n",
    "                    midmax=mid\n",
    "\n",
    "        prev=row\n",
    "    storemidpoint[feature]=midmax\n",
    "    for index,row in X_train.iterrows():\n",
    "        if float(row[feature])>=midmax:\n",
    "            X_train.at[index,feature]=1\n",
    "        else:\n",
    "            X_train.at[index,feature]=0\n",
    "# print IGMax,midmax"
   ]
  },
  {
   "cell_type": "code",
   "execution_count": 26,
   "metadata": {},
   "outputs": [],
   "source": [
    "def find_best_node(X_train):\n",
    "    information_gain=[]\n",
    "    for attr in X_train.keys()[:-1]:\n",
    "        information_gain.append(find_overall_entropy(X_train)+find_attr_entropy(X_train,attr))\n",
    "    return X_train.keys()[:-1][np.argmax(information_gain)]"
   ]
  },
  {
   "cell_type": "code",
   "execution_count": 27,
   "metadata": {},
   "outputs": [],
   "source": [
    "def get_subdataframe(X_train,node,value):\n",
    "    return X_train[X_train[node] == value].reset_index(drop=True)"
   ]
  },
  {
   "cell_type": "code",
   "execution_count": 28,
   "metadata": {},
   "outputs": [],
   "source": [
    "class nodestruct:\n",
    "    def __init__(self, value, pos=0, neg=0, left=None, right=None):\n",
    "        self.value=value\n",
    "        self.positive=pos\n",
    "        self.negative=neg\n",
    "        self.left=left\n",
    "        self.right=right"
   ]
  },
  {
   "cell_type": "code",
   "execution_count": 29,
   "metadata": {},
   "outputs": [],
   "source": [
    "def build_tree(X_train,depth):\n",
    "    \n",
    "    if len(X_train.columns)==1:\n",
    "        return \n",
    "    output=X_train.keys()[-1]\n",
    "    node = find_best_node(X_train)\n",
    "    \n",
    "    root=nodestruct(node)\n",
    "#     print root.value\n",
    "\n",
    "    outputValue,counts = np.unique(X_train[output],return_counts=True)                        \n",
    "    \n",
    "    if len(counts)<=1:\n",
    "        if outputValue[0]==0:\n",
    "            root.negative=counts[0]\n",
    "        else:\n",
    "            root.positive=counts[0]\n",
    "    else:\n",
    "        if outputValue[0]==0:\n",
    "            root.negative=counts[0]\n",
    "        else:\n",
    "            root.positive=counts[0]\n",
    "        if outputValue[1]==0:\n",
    "            root.negative=counts[1]\n",
    "        else:\n",
    "            root.positive=counts[1]\n",
    "            \n",
    "        if depth==0:\n",
    "            return root\n",
    "\n",
    "        attValue=X_train[node].unique()\n",
    "        for val in attValue:\n",
    "\n",
    "            subdataframe = get_subdataframe(X_train,node,val)                     \n",
    "            subdataframe=subdataframe.drop([node],axis=1)\n",
    "            outputValue,counts = np.unique(subdataframe[output],return_counts=True)                        \n",
    "            if len(counts)<=1:\n",
    "                pass\n",
    "            else:\n",
    "                if val == 1:\n",
    "                    root.right = build_tree(subdataframe,depth-1)\n",
    "                else:\n",
    "                    root.left = build_tree(subdataframe,depth-1)\n",
    "\n",
    "    return root"
   ]
  },
  {
   "cell_type": "code",
   "execution_count": 30,
   "metadata": {},
   "outputs": [],
   "source": [
    "depth=2\n",
    "while depth<21:\n",
    "                \n",
    "    rootNode=build_tree(X_train,depth)\n",
    "    # print rootNode.value\n",
    "    # print rootNode.left.value\n",
    "    # print rootNode.right.value\n",
    "\n",
    "#     print storemidpoint\n",
    "\n",
    "    def testing(X_test,root):\n",
    "\n",
    "        if root.left == None and root.right == None:\n",
    "            if root.positive>root.negative:\n",
    "                y_pred.append(1)\n",
    "            else:\n",
    "                y_pred.append(0)\n",
    "            return\n",
    "\n",
    "        j = root.value\n",
    "        if j in X_test:\n",
    "            if X_test[j] == 1:\n",
    "                if root.right==None:\n",
    "                    if root.positive>root.negative:\n",
    "                        y_pred.append(1)\n",
    "                    else:\n",
    "                        y_pred.append(0)\n",
    "                else:\n",
    "                    testing(X_test,root.right)\n",
    "            else:\n",
    "                if root.left==None:\n",
    "                    if root.positive>root.negative:\n",
    "                        y_pred.append(1)\n",
    "                    else:\n",
    "                        y_pred.append(0)\n",
    "                else:\n",
    "                    testing(X_test,root.left)\n",
    "        else:\n",
    "            if root.left==None:\n",
    "                if root.positive>root.negative:\n",
    "                    y_pred.append(1)\n",
    "                else:\n",
    "                    y_pred.append(0)\n",
    "            else:\n",
    "                testing(X_test,root.left)\n",
    "\n",
    "    y_pred=[]\n",
    "#     rootNode=build_tree(X_train,depth)\n",
    "    # X_test1 = pd.read_csv(\"sample_test.csv\")\n",
    "    # X_test1 = pd.concat([X_test1,pd.get_dummies(X_test1['sales'], prefix='sales')],axis=1)\n",
    "    # X_test1 = pd.concat([X_test1,pd.get_dummies(X_test1['salary'], prefix='salary')],axis=1)\n",
    "    # X_test1.drop(['sales','salary'],axis=1, inplace=True)\n",
    "\n",
    "    X_train1=copy.deepcopy(X_Original_train)\n",
    "    X_test1=copy.deepcopy(X_Original_test)\n",
    "    \n",
    "    numeric_features = ['number_project','last_evaluation','satisfaction_level','average_montly_hours','time_spend_company']\n",
    "    for feature in numeric_features:\n",
    "        for index,row in X_test1.iterrows():\n",
    "            if float(row[feature]) >= storemidpoint[feature]:\n",
    "                X_test1.at[index,feature]=1\n",
    "            else:\n",
    "                X_test1.at[index,feature]=0\n",
    "        \n",
    "    for feature in numeric_features:\n",
    "        for index,row in X_train1.iterrows():\n",
    "            if float(row[feature]) >= storemidpoint[feature]:\n",
    "                X_train1.at[index,feature]=1\n",
    "            else:\n",
    "                X_train1.at[index,feature]=0\n",
    "\n",
    "    for index,row in X_test1.iterrows():\n",
    "        testing(row,rootNode)\n",
    "\n",
    "#     print accuracy_score(Y_test, y_pred)\n",
    "#     print \"Testing Data-----------------------------------------\"\n",
    "    depthListtest[depth] = 1-accuracy_score(Y_test, y_pred)\n",
    "#     print depthListtest\n",
    "#     print confusion_matrix(Y_test,y_pred)\n",
    "#     print classification_report(Y_test,y_pred)\n",
    "#     print accuracy_score(Y_test, y_pred)\n",
    "    del y_pred[:]\n",
    "\n",
    "#     convert_to_binary(X_train1)\n",
    "    \n",
    "    for index,row in X_train1.iterrows():\n",
    "        testing(row,rootNode)\n",
    "\n",
    "#     print accuracy_score(Y_test, y_pred)\n",
    "#     print \"Training Data--------------------------------------------\"\n",
    "    depthListtrain[depth] = 1-accuracy_score(Y_train, y_pred)\n",
    "#     print depthListtrain\n",
    "#     print confusion_matrix(Y_train,y_pred)\n",
    "#     print classification_report(Y_train,y_pred)\n",
    "#     print accuracy_score(Y_train, y_pred)\n",
    "    del y_pred[:]\n",
    "\n",
    "    # print y_pred\n",
    "    \n",
    "#     print depthList\n",
    "    depth=depth+2"
   ]
  },
  {
   "cell_type": "code",
   "execution_count": 31,
   "metadata": {},
   "outputs": [
    {
     "data": {
      "text/plain": [
       "Text(0.5,1,'depth vs error')"
      ]
     },
     "execution_count": 31,
     "metadata": {},
     "output_type": "execute_result"
    },
    {
     "data": {
      "image/png": "[encoded data removed]",
      "text/plain": [
       "<Figure size 432x288 with 1 Axes>"
      ]
     },
     "metadata": {
      "needs_background": "light"
     },
     "output_type": "display_data"
    }
   ],
   "source": [
    "fig, ax = plt.subplots()\n",
    "x_axis = [i for i in xrange(2,21,2)]\n",
    "ax.plot(x_axis, depthListtrain.values(), label=\"training error\",marker='o')\n",
    "ax.plot(x_axis, depthListtest.values(), label=\"testing error\",marker='o')\n",
    "ax.legend(loc=2) # upper left corner\n",
    "ax.set_xlabel(\"depth\", fontsize=18)\n",
    "ax.set_ylabel(\"error\", fontsize=18)\n",
    "ax.set_title('depth vs error')"
   ]
  },
  {
   "cell_type": "code",
   "execution_count": 32,
   "metadata": {},
   "outputs": [
    {
     "name": "stdout",
     "output_type": "stream",
     "text": [
      "[[1672   28]\n",
      " [  29  519]]\n",
      "              precision    recall  f1-score   support\n",
      "\n",
      "           0       0.98      0.98      0.98      1700\n",
      "           1       0.95      0.95      0.95       548\n",
      "\n",
      "   micro avg       0.97      0.97      0.97      2248\n",
      "   macro avg       0.97      0.97      0.97      2248\n",
      "weighted avg       0.97      0.97      0.97      2248\n",
      "\n",
      "0.974644128113879\n"
     ]
    }
   ],
   "source": [
    "modelTrain = DecisionTreeClassifier()\n",
    "modelTrain.fit(X_Original_train,Y_train)\n",
    "Y_predict=modelTrain.predict(X_Original_test)\n",
    "print confusion_matrix(Y_test,Y_predict)\n",
    "print classification_report(Y_test,Y_predict)\n",
    "print accuracy_score(Y_test, Y_predict)"
   ]
  },
  {
   "cell_type": "code",
   "execution_count": null,
   "metadata": {},
   "outputs": [],
   "source": []
  }
 ],
 "metadata": {
  "kernelspec": {
   "display_name": "Python 2",
   "language": "python",
   "name": "python2"
  },
  "language_info": {
   "codemirror_mode": {
    "name": "ipython",
    "version": 2
   },
   "file_extension": ".py",
   "mimetype": "text/x-python",
   "name": "python",
   "nbconvert_exporter": "python",
   "pygments_lexer": "ipython2",
   "version": "2.7.15rc1"
  }
 },
 "nbformat": 4,
 "nbformat_minor": 2
}
