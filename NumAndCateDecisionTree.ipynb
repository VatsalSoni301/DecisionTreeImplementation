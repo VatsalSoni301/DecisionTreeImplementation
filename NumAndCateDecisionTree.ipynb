{
 "cells": [
  {
   "cell_type": "code",
   "execution_count": 411,
   "metadata": {},
   "outputs": [],
   "source": [
    "import numpy as np\n",
    "import pandas as pd\n",
    "from sklearn.model_selection import train_test_split \n",
    "from sklearn.metrics import classification_report,confusion_matrix,accuracy_score\n",
    "from sklearn.tree import DecisionTreeClassifier\n",
    "from binarytree import tree,Node\n",
    "import copy"
   ]
  },
  {
   "cell_type": "code",
   "execution_count": 412,
   "metadata": {},
   "outputs": [],
   "source": [
    "df=pd.read_csv(\"train.csv\")"
   ]
  },
  {
   "cell_type": "code",
   "execution_count": 413,
   "metadata": {},
   "outputs": [],
   "source": [
    "X=df.drop(['left'],axis=1)\n",
    "Y=df['left']\n",
    "X = pd.concat([X,pd.get_dummies(X['sales'], prefix='sales')],axis=1)\n",
    "X = pd.concat([X,pd.get_dummies(X['salary'], prefix='salary')],axis=1)\n",
    "X.drop(['sales','salary'],axis=1, inplace=True)"
   ]
  },
  {
   "cell_type": "code",
   "execution_count": 414,
   "metadata": {},
   "outputs": [],
   "source": [
    "X_train, X_test, Y_train, Y_test = train_test_split(X,Y,test_size = 0.2)\n",
    "X_Original_train=copy.deepcopy(X_train)\n",
    "X_train = pd.concat([X_train,Y_train],axis=1)\n",
    "X_Original_test=copy.deepcopy(X_test)\n",
    "eps = np.finfo(float).eps\n",
    "# X_train"
   ]
  },
  {
   "cell_type": "code",
   "execution_count": 415,
   "metadata": {},
   "outputs": [],
   "source": [
    "def find_overall_entropy(X_train):\n",
    "    output=X_train.keys()[-1]\n",
    "    target_value_list=X_train[output].unique()\n",
    "    entropy=0\n",
    "    for value in target_value_list:\n",
    "        frac = float(X_train[output].value_counts()[value])/(len(X_train[output])+eps)\n",
    "        entropy+=-frac*np.log2(frac+eps)\n",
    "    return entropy"
   ]
  },
  {
   "cell_type": "code",
   "execution_count": 416,
   "metadata": {},
   "outputs": [],
   "source": [
    "def find_attr_entropy(X_train,attr):\n",
    "    if X_train.empty:\n",
    "        return\n",
    "    output=X_train.keys()[-1]\n",
    "    target_value_list=X_train[output].unique()\n",
    "    current_value_list=X_train[attr].unique()\n",
    "    final_entropy=0\n",
    "    den=1\n",
    "    for cur_value in current_value_list:\n",
    "        entropy=0\n",
    "        for value in target_value_list:\n",
    "            num = len(X_train[attr][X_train[attr] == cur_value][X_train[output] == value])\n",
    "            den = len(X_train[attr][X_train[attr] == cur_value])\n",
    "            frac=num/(den+eps)\n",
    "            entropy+=-frac*np.log2(frac+eps)\n",
    "        frac2=float(den)/len(X_train)\n",
    "        final_entropy+=-frac2*entropy\n",
    "    return final_entropy"
   ]
  },
  {
   "cell_type": "code",
   "execution_count": 417,
   "metadata": {},
   "outputs": [],
   "source": [
    "def get_subdataframeNum1(X_train,node,value):\n",
    "    if X_train.empty:\n",
    "        return\n",
    "    return X_train[X_train[node] < value].reset_index(drop=True)"
   ]
  },
  {
   "cell_type": "code",
   "execution_count": 418,
   "metadata": {},
   "outputs": [],
   "source": [
    "def get_subdataframeNum2(X_train,node,value):\n",
    "    if X_train.empty:\n",
    "        return\n",
    "    return X_train[X_train[node] >= value].reset_index(drop=True)"
   ]
  },
  {
   "cell_type": "code",
   "execution_count": 419,
   "metadata": {},
   "outputs": [],
   "source": [
    "storemidpoint={}\n",
    "storemidpoint.clear()\n",
    "numeric_features = ['number_project','last_evaluation','satisfaction_level','average_montly_hours','time_spend_company']\n",
    "for feature in numeric_features:\n",
    "    IGMax=0\n",
    "    midmax=0\n",
    "    prev=None\n",
    "    X_train.sort_values(feature,inplace=True)\n",
    "    for index,row in X_train.iterrows():\n",
    "        if prev is not None:\n",
    "            if prev['left']!=row['left']:\n",
    "                mid=(float(prev[feature])+float(row[feature]))/2\n",
    "    #             print mid\n",
    "                subtable1=get_subdataframeNum1(X_train,feature,mid)\n",
    "                subtable2=get_subdataframeNum2(X_train,feature,mid)\n",
    "                firstentropy=0\n",
    "                secondentropy=0\n",
    "                if subtable1.empty:\n",
    "                    firstentropy=0\n",
    "                else:\n",
    "                    frac1=float(len(subtable1))/len(X_train)\n",
    "                    firstentropy = frac1*find_overall_entropy(subtable1)\n",
    "                if subtable2.empty:\n",
    "                    secondentropy=0\n",
    "                else:\n",
    "                    frac2=float(len(subtable2))/len(X_train)\n",
    "                    secondentropy = frac2*find_overall_entropy(subtable2)\n",
    "                \n",
    "                entropy1=find_overall_entropy(X_train)\n",
    "                entropy2=firstentropy+secondentropy\n",
    "                ig=abs(entropy1)-abs(entropy2)\n",
    "    #             print ig\n",
    "                if ig > IGMax:\n",
    "                    IGMax=ig\n",
    "                    midmax=mid\n",
    "\n",
    "        prev=row\n",
    "        storemidpoint[feature]=midmax\n",
    "    for index,row in X_train.iterrows():\n",
    "        if float(row[feature])>=midmax:\n",
    "            X_train.at[index,feature]=1\n",
    "        else:\n",
    "            X_train.at[index,feature]=0\n",
    "# print IGMax,midmax"
   ]
  },
  {
   "cell_type": "code",
   "execution_count": 420,
   "metadata": {},
   "outputs": [],
   "source": [
    "def find_best_node(X_train):\n",
    "    if X_train.empty:\n",
    "        return\n",
    "    information_gain=[]\n",
    "    for attr in X_train.keys()[:-1]:\n",
    "        information_gain.append(find_overall_entropy(X_train)+find_attr_entropy(X_train,attr))\n",
    "    return X_train.keys()[:-1][np.argmax(information_gain)]"
   ]
  },
  {
   "cell_type": "code",
   "execution_count": 421,
   "metadata": {},
   "outputs": [],
   "source": [
    "def get_subdataframe(X_train,node,value):\n",
    "    if X_train.empty:\n",
    "        return\n",
    "    return X_train[X_train[node] == value].reset_index(drop=True)"
   ]
  },
  {
   "cell_type": "code",
   "execution_count": 422,
   "metadata": {},
   "outputs": [],
   "source": [
    "class nodestruct:\n",
    "    def __init__(self, value, left=None, right=None):\n",
    "        self.value=value\n",
    "        self.left=left\n",
    "        self.right=right"
   ]
  },
  {
   "cell_type": "code",
   "execution_count": 423,
   "metadata": {},
   "outputs": [],
   "source": [
    "def build_tree(X_train):\n",
    "    if X_train.empty:\n",
    "        return\n",
    "    if len(X_train.columns)==1:\n",
    "        return \n",
    "    output=X_train.keys()[-1]\n",
    "    node = find_best_node(X_train)\n",
    "    \n",
    "    root=nodestruct(node)\n",
    "#     print root.value\n",
    "    \n",
    "    attValue=X_train[node].unique()\n",
    "    for val in attValue:\n",
    "\n",
    "        subdataframe = get_subdataframe(X_train,node,val)\n",
    "        outputValue,counts = np.unique(subdataframe[output],return_counts=True)                        \n",
    "        subdataframe=subdataframe.drop([node],axis=1)\n",
    "\n",
    "        if len(counts)<=1:\n",
    "            root.value=outputValue[0]\n",
    "            return root\n",
    "        else:\n",
    "            if val == 0:\n",
    "                root.left = build_tree(subdataframe)\n",
    "            else:\n",
    "                root.right = build_tree(subdataframe)\n",
    "    \n",
    "    return root"
   ]
  },
  {
   "cell_type": "code",
   "execution_count": 424,
   "metadata": {},
   "outputs": [
    {
     "name": "stdout",
     "output_type": "stream",
     "text": [
      "satisfaction_level\n"
     ]
    }
   ],
   "source": [
    "rootNode=build_tree(X_train)\n",
    "print rootNode.value"
   ]
  },
  {
   "cell_type": "code",
   "execution_count": 425,
   "metadata": {},
   "outputs": [],
   "source": [
    "def testing(X_test,root):\n",
    "    if X_test.empty:\n",
    "        return\n",
    "    if root==None:\n",
    "        return\n",
    "    if root.value == 0 or root.value == 1:\n",
    "        y_pred.append(root.value)\n",
    "#         print root.value\n",
    "        return\n",
    "    features = X_test.keys()\n",
    "#     print features\n",
    "    for j in features:\n",
    "        if j == root.value:\n",
    "#             X_test=X_test.drop([j],axis=1)\n",
    "            if X_test[j] == '0':\n",
    "                testing(X_test,root.left)\n",
    "            else:\n",
    "                testing(X_test,root.right)"
   ]
  },
  {
   "cell_type": "code",
   "execution_count": 426,
   "metadata": {},
   "outputs": [],
   "source": [
    "for feature in numeric_features:\n",
    "    for index,row in X_test.iterrows():\n",
    "        if float(row[feature]) >= storemidpoint[feature]:\n",
    "            X_test.at[index,feature]=1\n",
    "        else:\n",
    "            X_test.at[index,feature]=0\n"
   ]
  },
  {
   "cell_type": "code",
   "execution_count": 427,
   "metadata": {},
   "outputs": [
    {
     "name": "stdout",
     "output_type": "stream",
     "text": [
      "satisfaction_level\n",
      "2248\n",
      "[[1719    0]\n",
      " [ 529    0]]\n",
      "              precision    recall  f1-score   support\n",
      "\n",
      "           0       0.76      1.00      0.87      1719\n",
      "           1       0.00      0.00      0.00       529\n",
      "\n",
      "   micro avg       0.76      0.76      0.76      2248\n",
      "   macro avg       0.38      0.50      0.43      2248\n",
      "weighted avg       0.58      0.76      0.66      2248\n",
      "\n",
      "0.7646797153024911\n"
     ]
    }
   ],
   "source": [
    "y_pred=[]\n",
    "print rootNode.value\n",
    "for index,row in X_test.iterrows():\n",
    "    testing(row,rootNode)\n",
    "print len(y_pred)\n",
    "\n",
    "print confusion_matrix(Y_test,y_pred)\n",
    "print classification_report(Y_test,y_pred)\n",
    "print accuracy_score(Y_test, y_pred)"
   ]
  },
  {
   "cell_type": "code",
   "execution_count": 428,
   "metadata": {},
   "outputs": [
    {
     "name": "stdout",
     "output_type": "stream",
     "text": [
      "[[1684   35]\n",
      " [  22  507]]\n",
      "              precision    recall  f1-score   support\n",
      "\n",
      "           0       0.99      0.98      0.98      1719\n",
      "           1       0.94      0.96      0.95       529\n",
      "\n",
      "   micro avg       0.97      0.97      0.97      2248\n",
      "   macro avg       0.96      0.97      0.97      2248\n",
      "weighted avg       0.97      0.97      0.97      2248\n",
      "\n",
      "0.974644128113879\n"
     ]
    }
   ],
   "source": [
    "modelTrain = DecisionTreeClassifier()\n",
    "modelTrain.fit(X_Original_train,Y_train)\n",
    "Y_predict=modelTrain.predict(X_Original_test)\n",
    "print confusion_matrix(Y_test,Y_predict)\n",
    "print classification_report(Y_test,Y_predict)\n",
    "print accuracy_score(Y_test, Y_predict)"
   ]
  },
  {
   "cell_type": "code",
   "execution_count": null,
   "metadata": {},
   "outputs": [],
   "source": []
  }
 ],
 "metadata": {
  "kernelspec": {
   "display_name": "Python 2",
   "language": "python",
   "name": "python2"
  },
  "language_info": {
   "codemirror_mode": {
    "name": "ipython",
    "version": 2
   },
   "file_extension": ".py",
   "mimetype": "text/x-python",
   "name": "python",
   "nbconvert_exporter": "python",
   "pygments_lexer": "ipython2",
   "version": "2.7.15rc1"
  }
 },
 "nbformat": 4,
 "nbformat_minor": 2
}
