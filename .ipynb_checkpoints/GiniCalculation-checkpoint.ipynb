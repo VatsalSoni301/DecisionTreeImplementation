{
 "cells": [
  {
   "cell_type": "code",
   "execution_count": 1,
   "metadata": {},
   "outputs": [],
   "source": [
    "import numpy as np\n",
    "import pandas as pd\n",
    "from sklearn.model_selection import train_test_split \n",
    "from sklearn.metrics import classification_report,confusion_matrix,accuracy_score\n",
    "from sklearn.tree import DecisionTreeClassifier\n",
    "from binarytree import tree,Node\n",
    "import copy"
   ]
  },
  {
   "cell_type": "code",
   "execution_count": 2,
   "metadata": {},
   "outputs": [],
   "source": [
    "df=pd.read_csv(\"train.csv\")"
   ]
  },
  {
   "cell_type": "code",
   "execution_count": 3,
   "metadata": {},
   "outputs": [],
   "source": [
    "X=df.drop(['left'],axis=1)\n",
    "Y=df['left']"
   ]
  },
  {
   "cell_type": "code",
   "execution_count": 4,
   "metadata": {},
   "outputs": [],
   "source": [
    "X_train, X_test, Y_train, Y_test = train_test_split(X,Y,test_size = 0.2)\n",
    "X_train = pd.concat([X_train,Y_train],axis=1)\n",
    "eps = np.finfo(float).eps\n",
    "numAttr=['last_evaluation','satisfaction_level','average_montly_hours','time_spend_company','number_project']"
   ]
  },
  {
   "cell_type": "code",
   "execution_count": 5,
   "metadata": {},
   "outputs": [],
   "source": [
    "def find_overall_gini(X_train):\n",
    "    output=X_train.keys()[-1]\n",
    "    target_value_list=X_train[output].unique()\n",
    "    gini=2\n",
    "    for value in target_value_list:\n",
    "        frac = float(X_train[output].value_counts()[value])/(len(X_train[output])+eps)\n",
    "        gini*=frac\n",
    "    return abs(gini)"
   ]
  },
  {
   "cell_type": "code",
   "execution_count": 6,
   "metadata": {},
   "outputs": [],
   "source": [
    "def find_attr_gini(X_train,attr):\n",
    "    \n",
    "    output=X_train.keys()[-1]\n",
    "    target_value_list=X_train[output].unique()\n",
    "    current_value_list=X_train[attr].unique()\n",
    "    final_gini=0\n",
    "    den=1\n",
    "    for cur_value in current_value_list:\n",
    "        gini=2\n",
    "        for value in target_value_list:\n",
    "            num = len(X_train[attr][X_train[attr] == cur_value][X_train[output] == value])\n",
    "            den = len(X_train[attr][X_train[attr] == cur_value])\n",
    "            frac=num/(den+eps)\n",
    "            gini*=frac\n",
    "        frac2=float(den)/len(X_train)\n",
    "        final_gini+=frac2*gini\n",
    "    return abs(final_gini)"
   ]
  },
  {
   "cell_type": "code",
   "execution_count": 7,
   "metadata": {},
   "outputs": [],
   "source": [
    "def get_subdataframeNum1(X_train,node,value):\n",
    "    return X_train[X_train[node] < value].reset_index(drop=True)"
   ]
  },
  {
   "cell_type": "code",
   "execution_count": 8,
   "metadata": {},
   "outputs": [],
   "source": [
    "def get_subdataframeNum2(X_train,node,value):\n",
    "    return X_train[X_train[node] >= value].reset_index(drop=True)"
   ]
  },
  {
   "cell_type": "code",
   "execution_count": 9,
   "metadata": {},
   "outputs": [],
   "source": [
    "storemidpoint={}\n",
    "storemidpoint.clear()\n",
    "def split_calculation(X_train):\n",
    "    gini1=find_overall_gini(X_train)\n",
    "    for feature in numAttr:\n",
    "        IGMax=0\n",
    "        midmax=0\n",
    "        uniqueVal = X_train[feature].unique()\n",
    "        for mid in uniqueVal:\n",
    "            \n",
    "            subtable1=get_subdataframeNum1(X_train,feature,mid)\n",
    "            subtable2=get_subdataframeNum2(X_train,feature,mid)\n",
    "            firstgini=0\n",
    "            secondgini=0\n",
    "            if subtable1.empty:\n",
    "                firstgini=0\n",
    "            else:\n",
    "                frac1=float(len(subtable1))/len(X_train)\n",
    "                firstgini = frac1*find_overall_gini(subtable1)\n",
    "            if subtable2.empty:\n",
    "                secondgini=0\n",
    "            else:\n",
    "                frac2=float(len(subtable2))/len(X_train)\n",
    "                secondgini = frac2*find_overall_gini(subtable2)\n",
    "\n",
    "            gini2=firstgini+secondgini\n",
    "            ig=abs(gini1)-abs(gini2)\n",
    "            if ig > IGMax:\n",
    "                IGMax=ig\n",
    "                midmax=mid\n",
    "        _tuple=(IGMax,midmax)\n",
    "        storemidpoint[feature]=_tuple\n",
    "    return storemidpoint"
   ]
  },
  {
   "cell_type": "code",
   "execution_count": 10,
   "metadata": {},
   "outputs": [],
   "source": [
    "def find_best_node(X_train):\n",
    "    information_gain={}\n",
    "    gini_1=find_overall_gini(X_train)\n",
    "    for attr in X_train.keys()[:-1]:\n",
    "        if attr not in numAttr:\n",
    "            information_gain[attr]=((gini_1-find_attr_gini(X_train,attr)),0)\n",
    "    return information_gain"
   ]
  },
  {
   "cell_type": "code",
   "execution_count": 11,
   "metadata": {},
   "outputs": [],
   "source": [
    "def get_subdataframe(X_train,node,value):\n",
    "    return X_train[X_train[node] == value].reset_index(drop=True)"
   ]
  },
  {
   "cell_type": "code",
   "execution_count": 12,
   "metadata": {},
   "outputs": [],
   "source": [
    "class nodestruct:\n",
    "    def __init__(self, value):\n",
    "        self.value=value\n",
    "        self.positive=0\n",
    "        self.negative=0\n",
    "        self.child=[]\n",
    "        self.midpoint=0\n",
    "        self.values=[]"
   ]
  },
  {
   "cell_type": "code",
   "execution_count": 13,
   "metadata": {},
   "outputs": [],
   "source": [
    "def build_tree(X_train):\n",
    "    \n",
    "    if len(X_train)==1:\n",
    "        return None\n",
    "    \n",
    "    output=X_train.keys()[-1]\n",
    "    outputValue,counts = np.unique(X_train[output],return_counts=True)                        \n",
    "    \n",
    "    \n",
    "    if len(counts)<=1:\n",
    "        root=nodestruct(outputValue[0])\n",
    "        if outputValue[0]==0:\n",
    "            root.negative = counts[0]\n",
    "        else:\n",
    "            root.positive = counts[0]\n",
    "        return root\n",
    "    \n",
    "    else:\n",
    "        \n",
    "        numericsplit = split_calculation(X_train)\n",
    "        categorysplit = find_best_node(X_train)\n",
    "        numericsplit.update(categorysplit)\n",
    "        wonAttr=\"\"\n",
    "        IGMAX=0\n",
    "        Split_point=0\n",
    "        \n",
    "        for key,tuple_ in numericsplit.items():\n",
    "            if IGMAX < tuple_[0]:\n",
    "                IGMAX = tuple_[0]\n",
    "                Split_point = tuple_[1]\n",
    "                wonAttr = key\n",
    "                \n",
    "        categorysplit.clear()\n",
    "        numericsplit.clear()\n",
    "        if wonAttr==\"\":\n",
    "            return\n",
    "        root = nodestruct(wonAttr)\n",
    "        root.midpoint = Split_point\n",
    "        root.negative = counts[0]\n",
    "        root.positive = counts[1]\n",
    "        \n",
    "        if wonAttr in numAttr:\n",
    "            subtable0 = get_subdataframeNum1(X_train,wonAttr,Split_point)\n",
    "            subtable1 = get_subdataframeNum2(X_train,wonAttr,Split_point)\n",
    "            root.child.append(build_tree(subtable0))\n",
    "            root.child.append(build_tree(subtable1))\n",
    "            \n",
    "        else:\n",
    "            for j in X_train[wonAttr].unique():\n",
    "                subtable0 = get_subdataframe(X_train,wonAttr,j)\n",
    "                subtable0 = subtable0.drop([wonAttr],axis=1)\n",
    "                root.values.append(j)\n",
    "                root.child.append(build_tree(subtable0))\n",
    "    \n",
    "        return root"
   ]
  },
  {
   "cell_type": "code",
   "execution_count": 14,
   "metadata": {},
   "outputs": [],
   "source": [
    "rootNode=build_tree(X_train)\n",
    "# print rootNode.value"
   ]
  },
  {
   "cell_type": "code",
   "execution_count": 15,
   "metadata": {},
   "outputs": [],
   "source": [
    "# print storemidpoint"
   ]
  },
  {
   "cell_type": "code",
   "execution_count": 16,
   "metadata": {},
   "outputs": [],
   "source": [
    "def testing(X_test,root):\n",
    "    \n",
    "    if len(root.child)==0:\n",
    "        y_pred.append(root.value)\n",
    "        return\n",
    "    i=root.value\n",
    "    flag=0\n",
    "    if i in numAttr:\n",
    "        if X_test[i]<root.midpoint and root.child[0]!=None:\n",
    "            flag=1\n",
    "            testing(X_test,root.child[0])\n",
    "        elif root.child[1]!=None:\n",
    "            flag=1\n",
    "            testing(X_test,root.child[1])\n",
    "        if flag==0:\n",
    "            if root.positive>root.negative:\n",
    "                y_pred.append(1)\n",
    "            else:\n",
    "                y_pred.append(0)\n",
    "            return\n",
    "    else:\n",
    "        k=0\n",
    "        for j in root.values:\n",
    "            if X_test[i]==j:\n",
    "                if root.child[k]!=None:\n",
    "                    flag=1\n",
    "                    testing(X_test,root.child[k])\n",
    "                    break\n",
    "                else:\n",
    "                    if root.positive>root.negative:\n",
    "                        y_pred.append(1)\n",
    "                    else:\n",
    "                        y_pred.append(0)\n",
    "                    return\n",
    "            k=k+1\n",
    "        if flag==0:\n",
    "            if root.positive>root.negative:\n",
    "                y_pred.append(1)\n",
    "            else:\n",
    "                y_pred.append(0)\n",
    "            return"
   ]
  },
  {
   "cell_type": "code",
   "execution_count": 17,
   "metadata": {},
   "outputs": [
    {
     "name": "stdout",
     "output_type": "stream",
     "text": [
      "[[1690   14]\n",
      " [  41  503]]\n",
      "              precision    recall  f1-score   support\n",
      "\n",
      "           0       0.98      0.99      0.98      1704\n",
      "           1       0.97      0.92      0.95       544\n",
      "\n",
      "   micro avg       0.98      0.98      0.98      2248\n",
      "   macro avg       0.97      0.96      0.97      2248\n",
      "weighted avg       0.98      0.98      0.98      2248\n",
      "\n",
      "0.9755338078291815\n"
     ]
    }
   ],
   "source": [
    "y_pred=[]\n",
    "\n",
    "# X_test1 = pd.read_csv(\"sample_test.csv\")\n",
    "\n",
    "for index,row in X_test.iterrows():\n",
    "    testing(row,rootNode)\n",
    "    \n",
    "# print y_pred\n",
    "\n",
    "print confusion_matrix(Y_test,y_pred)\n",
    "print classification_report(Y_test,y_pred)\n",
    "print accuracy_score(Y_test, y_pred)"
   ]
  },
  {
   "cell_type": "code",
   "execution_count": 18,
   "metadata": {},
   "outputs": [
    {
     "name": "stdout",
     "output_type": "stream",
     "text": [
      "[[1675   40]\n",
      " [  27  506]]\n",
      "              precision    recall  f1-score   support\n",
      "\n",
      "           0       0.98      0.98      0.98      1715\n",
      "           1       0.93      0.95      0.94       533\n",
      "\n",
      "   micro avg       0.97      0.97      0.97      2248\n",
      "   macro avg       0.96      0.96      0.96      2248\n",
      "weighted avg       0.97      0.97      0.97      2248\n",
      "\n",
      "0.9701957295373665\n"
     ]
    }
   ],
   "source": [
    "df1 = pd.read_csv(\"train.csv\")\n",
    "X1 = df1.drop(['left'],axis=1)\n",
    "Y1 = df1['left']\n",
    "X1 = pd.concat([X1,pd.get_dummies(X1['sales'], prefix='sales')],axis=1)\n",
    "X1 = pd.concat([X1,pd.get_dummies(X1['salary'], prefix='salary')],axis=1)\n",
    "X1.drop(['sales','salary'],axis=1, inplace=True)\n",
    "X_train1, X_test1, Y_train1, Y_test1 = train_test_split(X1,Y1,test_size = 0.2)\n",
    "modelTrain = DecisionTreeClassifier()\n",
    "modelTrain.fit(X_train1,Y_train1)\n",
    "Y_predict=modelTrain.predict(X_test1)\n",
    "print confusion_matrix(Y_test1,Y_predict)\n",
    "print classification_report(Y_test1,Y_predict)\n",
    "print accuracy_score(Y_test1, Y_predict)"
   ]
  },
  {
   "cell_type": "code",
   "execution_count": null,
   "metadata": {},
   "outputs": [],
   "source": []
  }
 ],
 "metadata": {
  "kernelspec": {
   "display_name": "Python 2",
   "language": "python",
   "name": "python2"
  },
  "language_info": {
   "codemirror_mode": {
    "name": "ipython",
    "version": 2
   },
   "file_extension": ".py",
   "mimetype": "text/x-python",
   "name": "python",
   "nbconvert_exporter": "python",
   "pygments_lexer": "ipython2",
   "version": "2.7.15rc1"
  }
 },
 "nbformat": 4,
 "nbformat_minor": 2
}
