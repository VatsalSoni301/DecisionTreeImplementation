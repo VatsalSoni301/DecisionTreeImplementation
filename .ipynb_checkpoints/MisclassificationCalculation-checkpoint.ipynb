{
 "cells": [
  {
   "cell_type": "code",
   "execution_count": 1,
   "metadata": {},
   "outputs": [],
   "source": [
    "import numpy as np\n",
    "import pandas as pd\n",
    "from sklearn.model_selection import train_test_split \n",
    "from sklearn.metrics import classification_report,confusion_matrix,accuracy_score\n",
    "from sklearn.tree import DecisionTreeClassifier\n",
    "from binarytree import tree,Node\n",
    "import copy"
   ]
  },
  {
   "cell_type": "code",
   "execution_count": 2,
   "metadata": {},
   "outputs": [],
   "source": [
    "df=pd.read_csv(\"train.csv\")"
   ]
  },
  {
   "cell_type": "code",
   "execution_count": 3,
   "metadata": {},
   "outputs": [],
   "source": [
    "X=df.drop(['left'],axis=1)\n",
    "Y=df['left']\n",
    "X = pd.concat([X,pd.get_dummies(X['sales'], prefix='sales')],axis=1)\n",
    "X = pd.concat([X,pd.get_dummies(X['salary'], prefix='salary')],axis=1)\n",
    "X.drop(['sales','salary'],axis=1, inplace=True)"
   ]
  },
  {
   "cell_type": "code",
   "execution_count": 4,
   "metadata": {},
   "outputs": [],
   "source": [
    "X_train, X_test, Y_train, Y_test = train_test_split(X,Y,test_size = 0.2)\n",
    "X_Original_train=copy.deepcopy(X_train)\n",
    "X_train = pd.concat([X_train,Y_train],axis=1)\n",
    "X_Original_test=copy.deepcopy(X_test)\n",
    "eps = np.finfo(float).eps\n",
    "# X_train"
   ]
  },
  {
   "cell_type": "code",
   "execution_count": 5,
   "metadata": {},
   "outputs": [],
   "source": [
    "def find_overall_misclassification(X_train):\n",
    "    output=X_train.keys()[-1]\n",
    "    target_value_list=X_train[output].unique()\n",
    "    misclassification = 100\n",
    "    for value in target_value_list:\n",
    "        frac = float(X_train[output].value_counts()[value])/(len(X_train[output])+eps)\n",
    "        misclassification=min(misclassification,frac)\n",
    "    return misclassification"
   ]
  },
  {
   "cell_type": "code",
   "execution_count": 6,
   "metadata": {},
   "outputs": [],
   "source": [
    "def find_attr_misclassification(X_train,attr):\n",
    "    if X_train.empty:\n",
    "        return\n",
    "    output=X_train.keys()[-1]\n",
    "    target_value_list=X_train[output].unique()\n",
    "    current_value_list=X_train[attr].unique()\n",
    "    final_misclassification=0\n",
    "    den=1\n",
    "    for cur_value in current_value_list:\n",
    "        misclassification=100\n",
    "        for value in target_value_list:\n",
    "            num = len(X_train[attr][X_train[attr] == cur_value][X_train[output] == value])\n",
    "            den = len(X_train[attr][X_train[attr] == cur_value])\n",
    "            frac=num/(den+eps)\n",
    "            misclassification=min(misclassification,frac)\n",
    "        frac2=float(den)/len(X_train)\n",
    "        final_misclassification+=frac2*misclassification\n",
    "    return final_misclassification"
   ]
  },
  {
   "cell_type": "code",
   "execution_count": 7,
   "metadata": {},
   "outputs": [],
   "source": [
    "def get_subdataframeNum1(X_train,node,value):\n",
    "    if X_train.empty:\n",
    "        return\n",
    "    return X_train[X_train[node] < value].reset_index(drop=True)"
   ]
  },
  {
   "cell_type": "code",
   "execution_count": 8,
   "metadata": {},
   "outputs": [],
   "source": [
    "def get_subdataframeNum2(X_train,node,value):\n",
    "    if X_train.empty:\n",
    "        return\n",
    "    return X_train[X_train[node] >= value].reset_index(drop=True)"
   ]
  },
  {
   "cell_type": "code",
   "execution_count": 9,
   "metadata": {},
   "outputs": [],
   "source": [
    "storemidpoint={}\n",
    "storemidpoint.clear()\n",
    "numeric_features = ['number_project','last_evaluation','satisfaction_level','average_montly_hours','time_spend_company']\n",
    "for feature in numeric_features:\n",
    "    IGMax=0\n",
    "    midmax=0\n",
    "    prev=None\n",
    "    X_train.sort_values(feature,inplace=True)\n",
    "    for index,row in X_train.iterrows():\n",
    "        if prev is not None:\n",
    "            if prev['left']!=row['left']:\n",
    "                mid=(float(prev[feature])+float(row[feature]))/2\n",
    "    #             print mid\n",
    "                subtable1=get_subdataframeNum1(X_train,feature,mid)\n",
    "                subtable2=get_subdataframeNum2(X_train,feature,mid)\n",
    "                firstmisclassification=0\n",
    "                secondmisclassification=0\n",
    "                if subtable1.empty:\n",
    "                    firstmisclassification=0\n",
    "                else:\n",
    "                    frac1=float(len(subtable1))/len(X_train)\n",
    "                    firstmisclassification = frac1*find_overall_misclassification(subtable1)\n",
    "                if subtable2.empty:\n",
    "                    secondmisclassification=0\n",
    "                else:\n",
    "                    frac2=float(len(subtable2))/len(X_train)\n",
    "                    secondmisclassification = frac2*find_overall_misclassification(subtable2)\n",
    "                \n",
    "                misclassification1=find_overall_misclassification(X_train)\n",
    "                misclassification2=firstmisclassification+secondmisclassification\n",
    "                ig=abs(misclassification1)-abs(misclassification2)\n",
    "    #             print ig\n",
    "                if ig > IGMax:\n",
    "                    IGMax=ig\n",
    "                    midmax=mid\n",
    "\n",
    "        prev=row\n",
    "    storemidpoint[feature]=midmax\n",
    "    for index,row in X_train.iterrows():\n",
    "        if float(row[feature])>=midmax:\n",
    "            X_train.at[index,feature]=1\n",
    "        else:\n",
    "            X_train.at[index,feature]=0\n",
    "# print IGMax,midmax"
   ]
  },
  {
   "cell_type": "code",
   "execution_count": 10,
   "metadata": {},
   "outputs": [],
   "source": [
    "def find_best_node(X_train):\n",
    "    information_gain=[]\n",
    "    for attr in X_train.keys()[:-1]:\n",
    "        information_gain.append(find_overall_misclassification(X_train)+find_attr_misclassification(X_train,attr))\n",
    "    return X_train.keys()[:-1][np.argmax(information_gain)]"
   ]
  },
  {
   "cell_type": "code",
   "execution_count": 11,
   "metadata": {},
   "outputs": [],
   "source": [
    "def get_subdataframe(X_train,node,value):\n",
    "    return X_train[X_train[node] == value].reset_index(drop=True)"
   ]
  },
  {
   "cell_type": "code",
   "execution_count": 12,
   "metadata": {},
   "outputs": [],
   "source": [
    "class nodestruct:\n",
    "    def __init__(self, value, pos=0, neg=0, left=None, right=None):\n",
    "        self.value=value\n",
    "        self.positive=pos\n",
    "        self.negative=neg\n",
    "        self.left=left\n",
    "        self.right=right"
   ]
  },
  {
   "cell_type": "code",
   "execution_count": 13,
   "metadata": {},
   "outputs": [],
   "source": [
    "def build_tree(X_train):\n",
    "    \n",
    "    if len(X_train.columns)==1:\n",
    "        return \n",
    "    output=X_train.keys()[-1]\n",
    "    node = find_best_node(X_train)\n",
    "    \n",
    "    root=nodestruct(node)\n",
    "#     print root.value\n",
    "\n",
    "    outputValue,counts = np.unique(X_train[output],return_counts=True)                        \n",
    "    \n",
    "    if len(counts)<=1:\n",
    "        if outputValue[0]==0:\n",
    "            root.negative=counts[0]\n",
    "        else:\n",
    "            root.positive=counts[0]\n",
    "    else:\n",
    "        if outputValue[0]==0:\n",
    "            root.negative=counts[0]\n",
    "        else:\n",
    "            root.positive=counts[0]\n",
    "        if outputValue[1]==0:\n",
    "            root.negative=counts[1]\n",
    "        else:\n",
    "            root.positive=counts[1]\n",
    "\n",
    "        attValue=X_train[node].unique()\n",
    "        for val in attValue:\n",
    "\n",
    "            subdataframe = get_subdataframe(X_train,node,val)                     \n",
    "            subdataframe=subdataframe.drop([node],axis=1)\n",
    "            outputValue,counts = np.unique(subdataframe[output],return_counts=True)                        \n",
    "            if len(counts)<=1:\n",
    "                pass\n",
    "            else:\n",
    "                if val == 1:\n",
    "                    root.right = build_tree(subdataframe)\n",
    "                else:\n",
    "                    root.left = build_tree(subdataframe)\n",
    "\n",
    "    return root"
   ]
  },
  {
   "cell_type": "code",
   "execution_count": 14,
   "metadata": {},
   "outputs": [],
   "source": [
    "rootNode=build_tree(X_train)\n",
    "# print rootNode.value"
   ]
  },
  {
   "cell_type": "code",
   "execution_count": 15,
   "metadata": {},
   "outputs": [
    {
     "name": "stdout",
     "output_type": "stream",
     "text": [
      "{'satisfaction_level': 0.46499999999999997, 'last_evaluation': 0.995, 'average_montly_hours': 276.0, 'time_spend_company': 5.0, 'number_project': 2.5}\n"
     ]
    }
   ],
   "source": [
    "print storemidpoint"
   ]
  },
  {
   "cell_type": "code",
   "execution_count": 16,
   "metadata": {},
   "outputs": [],
   "source": [
    "def testing(X_test,root):\n",
    "    \n",
    "    if root.left == None and root.right == None:\n",
    "        if root.positive>root.negative:\n",
    "            y_pred.append(1)\n",
    "        else:\n",
    "            y_pred.append(0)\n",
    "        return\n",
    "    \n",
    "    j = root.value\n",
    "    if j in X_test:\n",
    "        if X_test[j] == 1:\n",
    "            if root.right==None:\n",
    "                if root.positive>root.negative:\n",
    "                    y_pred.append(1)\n",
    "                else:\n",
    "                    y_pred.append(0)\n",
    "            else:\n",
    "                testing(X_test,root.right)\n",
    "        else:\n",
    "            if root.left==None:\n",
    "                if root.positive>root.negative:\n",
    "                    y_pred.append(1)\n",
    "                else:\n",
    "                    y_pred.append(0)\n",
    "            else:\n",
    "                testing(X_test,root.left)\n",
    "    else:\n",
    "        if root.left==None:\n",
    "            if root.positive>root.negative:\n",
    "                y_pred.append(1)\n",
    "            else:\n",
    "                y_pred.append(0)\n",
    "        else:\n",
    "            testing(X_test,root.left)"
   ]
  },
  {
   "cell_type": "code",
   "execution_count": 17,
   "metadata": {},
   "outputs": [],
   "source": [
    "def convert_to_binary(X_test):\n",
    "    numeric_features = ['number_project','last_evaluation','satisfaction_level','average_montly_hours','time_spend_company']\n",
    "    for feature in numeric_features:\n",
    "        for index,row in X_test.iterrows():\n",
    "            if float(row[feature]) >= storemidpoint[feature]:\n",
    "                X_test.at[index,feature]=1\n",
    "            else:\n",
    "                X_test.at[index,feature]=0"
   ]
  },
  {
   "cell_type": "code",
   "execution_count": 18,
   "metadata": {},
   "outputs": [
    {
     "name": "stdout",
     "output_type": "stream",
     "text": [
      "[[1588  116]\n",
      " [ 188  356]]\n",
      "              precision    recall  f1-score   support\n",
      "\n",
      "           0       0.89      0.93      0.91      1704\n",
      "           1       0.75      0.65      0.70       544\n",
      "\n",
      "   micro avg       0.86      0.86      0.86      2248\n",
      "   macro avg       0.82      0.79      0.81      2248\n",
      "weighted avg       0.86      0.86      0.86      2248\n",
      "\n",
      "0.8647686832740213\n"
     ]
    }
   ],
   "source": [
    "y_pred=[]\n",
    "\n",
    "# X_test1 = pd.read_csv(\"sample_test.csv\")\n",
    "# X_test1 = pd.concat([X_test1,pd.get_dummies(X_test1['sales'], prefix='sales')],axis=1)\n",
    "# X_test1 = pd.concat([X_test1,pd.get_dummies(X_test1['salary'], prefix='salary')],axis=1)\n",
    "# X_test1.drop(['sales','salary'],axis=1, inplace=True)\n",
    "\n",
    "convert_to_binary(X_test)\n",
    "\n",
    "for index,row in X_test.iterrows():\n",
    "    testing(row,rootNode)\n",
    "    \n",
    "# print y_pred\n",
    "\n",
    "print confusion_matrix(Y_test,y_pred)\n",
    "print classification_report(Y_test,y_pred)\n",
    "print accuracy_score(Y_test, y_pred)"
   ]
  },
  {
   "cell_type": "code",
   "execution_count": 19,
   "metadata": {},
   "outputs": [
    {
     "name": "stdout",
     "output_type": "stream",
     "text": [
      "[[1675   29]\n",
      " [  20  524]]\n",
      "              precision    recall  f1-score   support\n",
      "\n",
      "           0       0.99      0.98      0.99      1704\n",
      "           1       0.95      0.96      0.96       544\n",
      "\n",
      "   micro avg       0.98      0.98      0.98      2248\n",
      "   macro avg       0.97      0.97      0.97      2248\n",
      "weighted avg       0.98      0.98      0.98      2248\n",
      "\n",
      "0.978202846975089\n"
     ]
    }
   ],
   "source": [
    "modelTrain = DecisionTreeClassifier()\n",
    "modelTrain.fit(X_Original_train,Y_train)\n",
    "Y_predict=modelTrain.predict(X_Original_test)\n",
    "print confusion_matrix(Y_test,Y_predict)\n",
    "print classification_report(Y_test,Y_predict)\n",
    "print accuracy_score(Y_test, Y_predict)"
   ]
  },
  {
   "cell_type": "code",
   "execution_count": null,
   "metadata": {},
   "outputs": [],
   "source": []
  }
 ],
 "metadata": {
  "kernelspec": {
   "display_name": "Python 2",
   "language": "python",
   "name": "python2"
  },
  "language_info": {
   "codemirror_mode": {
    "name": "ipython",
    "version": 2
   },
   "file_extension": ".py",
   "mimetype": "text/x-python",
   "name": "python",
   "nbconvert_exporter": "python",
   "pygments_lexer": "ipython2",
   "version": "2.7.15rc1"
  }
 },
 "nbformat": 4,
 "nbformat_minor": 2
}
