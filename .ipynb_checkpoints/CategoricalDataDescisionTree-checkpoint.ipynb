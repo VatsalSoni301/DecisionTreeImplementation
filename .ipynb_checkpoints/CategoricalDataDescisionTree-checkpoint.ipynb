{
 "cells": [
  {
   "cell_type": "code",
   "execution_count": 43,
   "metadata": {},
   "outputs": [],
   "source": [
    "import numpy as np\n",
    "import pandas as pd\n",
    "from sklearn.model_selection import train_test_split \n",
    "from sklearn.metrics import classification_report,confusion_matrix,accuracy_score\n",
    "from sklearn.tree import DecisionTreeClassifier\n",
    "from binarytree import tree,Node\n",
    "import copy"
   ]
  },
  {
   "cell_type": "code",
   "execution_count": 44,
   "metadata": {},
   "outputs": [],
   "source": [
    "df=pd.read_csv(\"train.csv\")"
   ]
  },
  {
   "cell_type": "code",
   "execution_count": 45,
   "metadata": {},
   "outputs": [],
   "source": [
    "X=df.drop(['left','number_project','last_evaluation','satisfaction_level','average_montly_hours','time_spend_company'],axis=1)\n",
    "Y=df['left']\n",
    "X = pd.concat([X,pd.get_dummies(X['sales'], prefix='sales')],axis=1)\n",
    "X = pd.concat([X,pd.get_dummies(X['salary'], prefix='salary')],axis=1)\n",
    "X.drop(['sales','salary'],axis=1, inplace=True)"
   ]
  },
  {
   "cell_type": "code",
   "execution_count": 46,
   "metadata": {},
   "outputs": [],
   "source": [
    "X_train, X_test, Y_train, Y_test = train_test_split(X,Y,test_size = 0.2)\n",
    "X_Original_train=copy.deepcopy(X_train)\n",
    "X_Original_test=copy.deepcopy(X_test)\n",
    "X_train = pd.concat([X_train,Y_train],axis=1)\n",
    "eps = np.finfo(float).eps\n",
    "# X_train"
   ]
  },
  {
   "cell_type": "code",
   "execution_count": 47,
   "metadata": {},
   "outputs": [],
   "source": [
    "def find_overall_entropy(X_train):\n",
    "    if X_train.empty:\n",
    "        return\n",
    "    output=X_train.keys()[-1]\n",
    "#     print len(X_train[output])\n",
    "    target_value_list=X_train[output].unique()\n",
    "    entropy=0\n",
    "    for value in target_value_list:\n",
    "        frac = float(X_train[output].value_counts()[value])/(len(X_train[output])+eps)\n",
    "        entropy+=-frac*np.log2(frac+eps)\n",
    "    return entropy"
   ]
  },
  {
   "cell_type": "code",
   "execution_count": 48,
   "metadata": {},
   "outputs": [],
   "source": [
    "def find_attr_entropy(X_train,attr):\n",
    "    if X_train.empty:\n",
    "        return\n",
    "    output=X_train.keys()[-1]\n",
    "    target_value_list=X_train[output].unique()\n",
    "    current_value_list=X_train[attr].unique()\n",
    "    final_entropy=0\n",
    "    den=1\n",
    "    for cur_value in current_value_list:\n",
    "        entropy=0\n",
    "        for value in target_value_list:\n",
    "            num = len(X_train[attr][X_train[attr] == cur_value][X_train[output] == value])\n",
    "            den = len(X_train[attr][X_train[attr] == cur_value])\n",
    "            frac=num/(den+eps)\n",
    "            entropy+=-frac*np.log2(frac+eps)\n",
    "        frac2=float(den)/len(X_train)\n",
    "        final_entropy+=-frac2*entropy\n",
    "    return final_entropy"
   ]
  },
  {
   "cell_type": "code",
   "execution_count": 49,
   "metadata": {},
   "outputs": [],
   "source": [
    "def find_best_node(X_train):\n",
    "    if X_train.empty:\n",
    "        return\n",
    "    information_gain=[]\n",
    "    for attr in X_train.keys()[:-1]:\n",
    "        information_gain.append(find_overall_entropy(X_train)+find_attr_entropy(X_train,attr))\n",
    "    return X_train.keys()[:-1][np.argmax(information_gain)]"
   ]
  },
  {
   "cell_type": "code",
   "execution_count": 50,
   "metadata": {},
   "outputs": [],
   "source": [
    "def get_subdataframe(X_train,node,value):\n",
    "    if X_train.empty:\n",
    "        return\n",
    "    return X_train[X_train[node] == value].reset_index(drop=True)"
   ]
  },
  {
   "cell_type": "code",
   "execution_count": 51,
   "metadata": {},
   "outputs": [],
   "source": [
    "class nodestruct:\n",
    "    def __init__(self, value, pos=0, neg=0, left=None, right=None):\n",
    "        self.value=value\n",
    "        self.positive=pos\n",
    "        self.negative=neg\n",
    "        self.left=left\n",
    "        self.right=right"
   ]
  },
  {
   "cell_type": "code",
   "execution_count": 52,
   "metadata": {},
   "outputs": [],
   "source": [
    "def build_tree(X_train):\n",
    "    \n",
    "    if len(X_train.columns)==1:\n",
    "        return \n",
    "    output=X_train.keys()[-1]\n",
    "    node = find_best_node(X_train)\n",
    "    \n",
    "    root=nodestruct(node)\n",
    "#     print root.value\n",
    "\n",
    "    outputValue,counts = np.unique(X_train[output],return_counts=True)                        \n",
    "    \n",
    "    if len(counts)<=1:\n",
    "        if outputValue[0]==0:\n",
    "            root.negative=counts[0]\n",
    "        else:\n",
    "            root.positive=counts[0]\n",
    "    else:\n",
    "        if outputValue[0]==0:\n",
    "            root.negative=counts[0]\n",
    "        else:\n",
    "            root.positive=counts[0]\n",
    "        if outputValue[1]==0:\n",
    "            root.negative=counts[1]\n",
    "        else:\n",
    "            root.positive=counts[1]\n",
    "\n",
    "        attValue=X_train[node].unique()\n",
    "        for val in attValue:\n",
    "\n",
    "            subdataframe = get_subdataframe(X_train,node,val)                     \n",
    "            subdataframe=subdataframe.drop([node],axis=1)\n",
    "            outputValue,counts = np.unique(subdataframe[output],return_counts=True)                        \n",
    "            if len(counts)<=1:\n",
    "                pass\n",
    "            else:\n",
    "                if val == 1:\n",
    "                    root.right = build_tree(subdataframe)\n",
    "                else:\n",
    "                    root.left = build_tree(subdataframe)\n",
    "\n",
    "    return root"
   ]
  },
  {
   "cell_type": "code",
   "execution_count": 53,
   "metadata": {},
   "outputs": [],
   "source": [
    "rootNode=build_tree(X_train)\n",
    "# print rootNode.right.value"
   ]
  },
  {
   "cell_type": "code",
   "execution_count": 54,
   "metadata": {},
   "outputs": [],
   "source": [
    "def testing(X_test,root):\n",
    "    \n",
    "    if root.left == None and root.right == None:\n",
    "        if root.positive>root.negative:\n",
    "            y_pred.append(1)\n",
    "        else:\n",
    "            y_pred.append(0)\n",
    "        return\n",
    "    \n",
    "    j = root.value\n",
    "    if X_test[j] == 1:\n",
    "        if root.right==None:\n",
    "            if root.positive>root.negative:\n",
    "                y_pred.append(1)\n",
    "            else:\n",
    "                y_pred.append(0)\n",
    "        else:\n",
    "            testing(X_test,root.right)\n",
    "    else:\n",
    "        if root.left==None:\n",
    "            if root.positive>root.negative:\n",
    "                y_pred.append(1)\n",
    "            else:\n",
    "                y_pred.append(0)\n",
    "        else:\n",
    "            testing(X_test,root.left)"
   ]
  },
  {
   "cell_type": "code",
   "execution_count": 55,
   "metadata": {},
   "outputs": [
    {
     "name": "stdout",
     "output_type": "stream",
     "text": [
      "[[1704    0]\n",
      " [ 544    0]]\n",
      "              precision    recall  f1-score   support\n",
      "\n",
      "           0       0.76      1.00      0.86      1704\n",
      "           1       0.00      0.00      0.00       544\n",
      "\n",
      "   micro avg       0.76      0.76      0.76      2248\n",
      "   macro avg       0.38      0.50      0.43      2248\n",
      "weighted avg       0.57      0.76      0.65      2248\n",
      "\n",
      "0.7580071174377224\n"
     ]
    }
   ],
   "source": [
    "y_pred=[]\n",
    "for index,row in X_test.iterrows():\n",
    "    testing(row,rootNode)\n",
    "# print len(y_pred)\n",
    "\n",
    "print confusion_matrix(Y_test,y_pred)\n",
    "print classification_report(Y_test,y_pred)\n",
    "print accuracy_score(Y_test, y_pred)"
   ]
  },
  {
   "cell_type": "code",
   "execution_count": 56,
   "metadata": {},
   "outputs": [
    {
     "name": "stdout",
     "output_type": "stream",
     "text": [
      "[[1704    0]\n",
      " [ 544    0]]\n",
      "              precision    recall  f1-score   support\n",
      "\n",
      "           0       0.76      1.00      0.86      1704\n",
      "           1       0.00      0.00      0.00       544\n",
      "\n",
      "   micro avg       0.76      0.76      0.76      2248\n",
      "   macro avg       0.38      0.50      0.43      2248\n",
      "weighted avg       0.57      0.76      0.65      2248\n",
      "\n",
      "0.7580071174377224\n"
     ]
    }
   ],
   "source": [
    "modelTrain = DecisionTreeClassifier()\n",
    "modelTrain.fit(X_Original_train,Y_train)\n",
    "Y_predict=modelTrain.predict(X_Original_test)\n",
    "print confusion_matrix(Y_test,Y_predict)\n",
    "print classification_report(Y_test,Y_predict)\n",
    "print accuracy_score(Y_test, Y_predict)"
   ]
  },
  {
   "cell_type": "code",
   "execution_count": null,
   "metadata": {},
   "outputs": [],
   "source": []
  }
 ],
 "metadata": {
  "kernelspec": {
   "display_name": "Python 2",
   "language": "python",
   "name": "python2"
  },
  "language_info": {
   "codemirror_mode": {
    "name": "ipython",
    "version": 2
   },
   "file_extension": ".py",
   "mimetype": "text/x-python",
   "name": "python",
   "nbconvert_exporter": "python",
   "pygments_lexer": "ipython2",
   "version": "2.7.15rc1"
  }
 },
 "nbformat": 4,
 "nbformat_minor": 2
}
