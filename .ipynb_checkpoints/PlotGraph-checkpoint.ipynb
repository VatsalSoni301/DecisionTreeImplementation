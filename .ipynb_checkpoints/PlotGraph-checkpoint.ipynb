{
 "cells": [
  {
   "cell_type": "code",
   "execution_count": 13,
   "metadata": {},
   "outputs": [],
   "source": [
    "import numpy as np\n",
    "import pandas as pd\n",
    "from sklearn.model_selection import train_test_split \n",
    "from sklearn.metrics import classification_report,confusion_matrix,accuracy_score\n",
    "from sklearn.tree import DecisionTreeClassifier\n",
    "from binarytree import tree,Node\n",
    "import matplotlib\n",
    "from pylab import *\n",
    "import matplotlib.pyplot as plt\n",
    "import copy"
   ]
  },
  {
   "cell_type": "code",
   "execution_count": 2,
   "metadata": {},
   "outputs": [],
   "source": [
    "df=pd.read_csv(\"train.csv\")"
   ]
  },
  {
   "cell_type": "code",
   "execution_count": 3,
   "metadata": {},
   "outputs": [],
   "source": [
    "X=df.drop(['left'],axis=1)\n",
    "Y=df['left']\n",
    "X = pd.concat([X,pd.get_dummies(X['sales'], prefix='sales')],axis=1)\n",
    "X = pd.concat([X,pd.get_dummies(X['salary'], prefix='salary')],axis=1)\n",
    "X.drop(['sales','salary'],axis=1, inplace=True)"
   ]
  },
  {
   "cell_type": "code",
   "execution_count": 4,
   "metadata": {},
   "outputs": [],
   "source": [
    "X_train, X_test, Y_train, Y_test = train_test_split(X,Y,test_size = 0.2)\n",
    "X_Original_train=copy.deepcopy(X_train)\n",
    "X_train = pd.concat([X_train,Y_train],axis=1)\n",
    "X_Original_test=copy.deepcopy(X_test)\n",
    "eps = np.finfo(float).eps\n",
    "# X_train"
   ]
  },
  {
   "cell_type": "code",
   "execution_count": 5,
   "metadata": {},
   "outputs": [],
   "source": [
    "def find_overall_entropy(X_train):\n",
    "    output=X_train.keys()[-1]\n",
    "    target_value_list=X_train[output].unique()\n",
    "    entropy=0\n",
    "    for value in target_value_list:\n",
    "        frac = float(X_train[output].value_counts()[value])/(len(X_train[output])+eps)\n",
    "        entropy+=-frac*np.log2(frac+eps)\n",
    "    return entropy"
   ]
  },
  {
   "cell_type": "code",
   "execution_count": 6,
   "metadata": {},
   "outputs": [],
   "source": [
    "def find_attr_entropy(X_train,attr):\n",
    "    if X_train.empty:\n",
    "        return\n",
    "    output=X_train.keys()[-1]\n",
    "    target_value_list=X_train[output].unique()\n",
    "    current_value_list=X_train[attr].unique()\n",
    "    final_entropy=0\n",
    "    den=1\n",
    "    for cur_value in current_value_list:\n",
    "        entropy=0\n",
    "        for value in target_value_list:\n",
    "            num = len(X_train[attr][X_train[attr] == cur_value][X_train[output] == value])\n",
    "            den = len(X_train[attr][X_train[attr] == cur_value])\n",
    "            frac=num/(den+eps)\n",
    "            entropy+=-frac*np.log2(frac+eps)\n",
    "        frac2=float(den)/len(X_train)\n",
    "        final_entropy+=-frac2*entropy\n",
    "    return final_entropy"
   ]
  },
  {
   "cell_type": "code",
   "execution_count": 7,
   "metadata": {},
   "outputs": [],
   "source": [
    "def get_subdataframeNum1(X_train,node,value):\n",
    "    if X_train.empty:\n",
    "        return\n",
    "    return X_train[X_train[node] < value].reset_index(drop=True)"
   ]
  },
  {
   "cell_type": "code",
   "execution_count": 8,
   "metadata": {},
   "outputs": [],
   "source": [
    "def get_subdataframeNum2(X_train,node,value):\n",
    "    if X_train.empty:\n",
    "        return\n",
    "    return X_train[X_train[node] >= value].reset_index(drop=True)"
   ]
  },
  {
   "cell_type": "code",
   "execution_count": 9,
   "metadata": {},
   "outputs": [],
   "source": [
    "storemidpoint={}\n",
    "storemidpoint.clear()\n",
    "numeric_features = ['number_project','last_evaluation','satisfaction_level','average_montly_hours','time_spend_company']\n",
    "for feature in numeric_features:\n",
    "    IGMax=0\n",
    "    midmax=0\n",
    "    prev=None\n",
    "    X_train.sort_values(feature,inplace=True)\n",
    "    for index,row in X_train.iterrows():\n",
    "        if prev is not None:\n",
    "            if prev['left']!=row['left']:\n",
    "                mid=(float(prev[feature])+float(row[feature]))/2\n",
    "    #             print mid\n",
    "                subtable1=get_subdataframeNum1(X_train,feature,mid)\n",
    "                subtable2=get_subdataframeNum2(X_train,feature,mid)\n",
    "                firstentropy=0\n",
    "                secondentropy=0\n",
    "                if subtable1.empty:\n",
    "                    firstentropy=0\n",
    "                else:\n",
    "                    frac1=float(len(subtable1))/len(X_train)\n",
    "                    firstentropy = frac1*find_overall_entropy(subtable1)\n",
    "                if subtable2.empty:\n",
    "                    secondentropy=0\n",
    "                else:\n",
    "                    frac2=float(len(subtable2))/len(X_train)\n",
    "                    secondentropy = frac2*find_overall_entropy(subtable2)\n",
    "                \n",
    "                entropy1=find_overall_entropy(X_train)\n",
    "                entropy2=firstentropy+secondentropy\n",
    "                ig=abs(entropy1)-abs(entropy2)\n",
    "    #             print ig\n",
    "                if ig > IGMax:\n",
    "                    IGMax=ig\n",
    "                    midmax=mid\n",
    "\n",
    "        prev=row\n",
    "    storemidpoint[feature]=midmax\n",
    "    for index,row in X_train.iterrows():\n",
    "        if float(row[feature])>=midmax:\n",
    "            X_train.at[index,feature]=1\n",
    "        else:\n",
    "            X_train.at[index,feature]=0\n",
    "# print IGMax,midmax"
   ]
  },
  {
   "cell_type": "code",
   "execution_count": 10,
   "metadata": {},
   "outputs": [
    {
     "name": "stdout",
     "output_type": "stream",
     "text": [
      "{'satisfaction_level': 0.46499999999999997, 'last_evaluation': 0.58, 'average_montly_hours': 287.5, 'time_spend_company': 2.5, 'number_project': 2.5}\n"
     ]
    }
   ],
   "source": [
    "print storemidpoint"
   ]
  },
  {
   "cell_type": "code",
   "execution_count": 11,
   "metadata": {},
   "outputs": [],
   "source": [
    "def get_subdataframe(X_train,node,value):\n",
    "    return X_train[X_train[node] == value].reset_index(drop=True)"
   ]
  },
  {
   "cell_type": "code",
   "execution_count": 17,
   "metadata": {},
   "outputs": [
    {
     "data": {
      "image/png": "[encoded data removed]",
      "text/plain": [
       "<Figure size 432x288 with 1 Axes>"
      ]
     },
     "metadata": {
      "needs_background": "light"
     },
     "output_type": "display_data"
    }
   ],
   "source": [
    "figure()\n",
    "X_Original_train = pd.concat([X_Original_train,Y_train],axis=1)\n",
    "X_train0 = X_Original_train[X_Original_train['left']==0]\n",
    "X_train1 = X_Original_train[X_Original_train['left']==1]\n",
    "\n",
    "scatter(X_train0['satisfaction_level'],X_train0['last_evaluation'],marker='+' )\n",
    "scatter(X_train1['satisfaction_level'],X_train1['last_evaluation'],marker='+')\n",
    "\n",
    "xlabel('satisfaction_level')\n",
    "ylabel('last_evaluation')\n",
    "title('scatter plot')\n",
    "\n",
    "show()"
   ]
  }
 ],
 "metadata": {
  "kernelspec": {
   "display_name": "Python 2",
   "language": "python",
   "name": "python2"
  },
  "language_info": {
   "codemirror_mode": {
    "name": "ipython",
    "version": 2
   },
   "file_extension": ".py",
   "mimetype": "text/x-python",
   "name": "python",
   "nbconvert_exporter": "python",
   "pygments_lexer": "ipython2",
   "version": "2.7.15rc1"
  }
 },
 "nbformat": 4,
 "nbformat_minor": 2
}
